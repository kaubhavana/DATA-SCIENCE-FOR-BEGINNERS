{
 "cells": [
  {
   "cell_type": "code",
   "execution_count": 4,
   "metadata": {},
   "outputs": [
    {
     "data": {
      "text/html": [
       "<div>\n",
       "<style scoped>\n",
       "    .dataframe tbody tr th:only-of-type {\n",
       "        vertical-align: middle;\n",
       "    }\n",
       "\n",
       "    .dataframe tbody tr th {\n",
       "        vertical-align: top;\n",
       "    }\n",
       "\n",
       "    .dataframe thead th {\n",
       "        text-align: right;\n",
       "    }\n",
       "</style>\n",
       "<table border=\"1\" class=\"dataframe\">\n",
       "  <thead>\n",
       "    <tr style=\"text-align: right;\">\n",
       "      <th></th>\n",
       "      <th>CRIM</th>\n",
       "      <th>ZN</th>\n",
       "      <th>INDUS</th>\n",
       "      <th>CHAS</th>\n",
       "      <th>NOX</th>\n",
       "      <th>RM</th>\n",
       "      <th>AGE</th>\n",
       "      <th>DIS</th>\n",
       "      <th>RAD</th>\n",
       "      <th>TAX</th>\n",
       "      <th>PTRATIO</th>\n",
       "      <th>B</th>\n",
       "      <th>LSTAT</th>\n",
       "    </tr>\n",
       "  </thead>\n",
       "  <tbody>\n",
       "    <tr>\n",
       "      <th>0</th>\n",
       "      <td>0.00632</td>\n",
       "      <td>18.0</td>\n",
       "      <td>2.31</td>\n",
       "      <td>0.0</td>\n",
       "      <td>0.538</td>\n",
       "      <td>6.575</td>\n",
       "      <td>65.2</td>\n",
       "      <td>4.0900</td>\n",
       "      <td>1.0</td>\n",
       "      <td>296.0</td>\n",
       "      <td>15.3</td>\n",
       "      <td>396.90</td>\n",
       "      <td>4.98</td>\n",
       "    </tr>\n",
       "    <tr>\n",
       "      <th>1</th>\n",
       "      <td>0.02731</td>\n",
       "      <td>0.0</td>\n",
       "      <td>7.07</td>\n",
       "      <td>0.0</td>\n",
       "      <td>0.469</td>\n",
       "      <td>6.421</td>\n",
       "      <td>78.9</td>\n",
       "      <td>4.9671</td>\n",
       "      <td>2.0</td>\n",
       "      <td>242.0</td>\n",
       "      <td>17.8</td>\n",
       "      <td>396.90</td>\n",
       "      <td>9.14</td>\n",
       "    </tr>\n",
       "    <tr>\n",
       "      <th>2</th>\n",
       "      <td>0.02729</td>\n",
       "      <td>0.0</td>\n",
       "      <td>7.07</td>\n",
       "      <td>0.0</td>\n",
       "      <td>0.469</td>\n",
       "      <td>7.185</td>\n",
       "      <td>61.1</td>\n",
       "      <td>4.9671</td>\n",
       "      <td>2.0</td>\n",
       "      <td>242.0</td>\n",
       "      <td>17.8</td>\n",
       "      <td>392.83</td>\n",
       "      <td>4.03</td>\n",
       "    </tr>\n",
       "    <tr>\n",
       "      <th>3</th>\n",
       "      <td>0.03237</td>\n",
       "      <td>0.0</td>\n",
       "      <td>2.18</td>\n",
       "      <td>0.0</td>\n",
       "      <td>0.458</td>\n",
       "      <td>6.998</td>\n",
       "      <td>45.8</td>\n",
       "      <td>6.0622</td>\n",
       "      <td>3.0</td>\n",
       "      <td>222.0</td>\n",
       "      <td>18.7</td>\n",
       "      <td>394.63</td>\n",
       "      <td>2.94</td>\n",
       "    </tr>\n",
       "    <tr>\n",
       "      <th>4</th>\n",
       "      <td>0.06905</td>\n",
       "      <td>0.0</td>\n",
       "      <td>2.18</td>\n",
       "      <td>0.0</td>\n",
       "      <td>0.458</td>\n",
       "      <td>7.147</td>\n",
       "      <td>54.2</td>\n",
       "      <td>6.0622</td>\n",
       "      <td>3.0</td>\n",
       "      <td>222.0</td>\n",
       "      <td>18.7</td>\n",
       "      <td>396.90</td>\n",
       "      <td>5.33</td>\n",
       "    </tr>\n",
       "  </tbody>\n",
       "</table>\n",
       "</div>"
      ],
      "text/plain": [
       "      CRIM    ZN  INDUS  CHAS    NOX     RM   AGE     DIS  RAD    TAX  \\\n",
       "0  0.00632  18.0   2.31   0.0  0.538  6.575  65.2  4.0900  1.0  296.0   \n",
       "1  0.02731   0.0   7.07   0.0  0.469  6.421  78.9  4.9671  2.0  242.0   \n",
       "2  0.02729   0.0   7.07   0.0  0.469  7.185  61.1  4.9671  2.0  242.0   \n",
       "3  0.03237   0.0   2.18   0.0  0.458  6.998  45.8  6.0622  3.0  222.0   \n",
       "4  0.06905   0.0   2.18   0.0  0.458  7.147  54.2  6.0622  3.0  222.0   \n",
       "\n",
       "   PTRATIO       B  LSTAT  \n",
       "0     15.3  396.90   4.98  \n",
       "1     17.8  396.90   9.14  \n",
       "2     17.8  392.83   4.03  \n",
       "3     18.7  394.63   2.94  \n",
       "4     18.7  396.90   5.33  "
      ]
     },
     "execution_count": 4,
     "metadata": {},
     "output_type": "execute_result"
    }
   ],
   "source": [
    "# Importing\n",
    "import sklearn\n",
    "from sklearn.datasets import load_boston\n",
    "import pandas as pd\n",
    "import matplotlib.pyplot as plt\n",
    " \n",
    "# Load the dataset\n",
    "bos_hou = load_boston()\n",
    " \n",
    "# Create the dataframe\n",
    "column_name = bos_hou.feature_names\n",
    "df_boston = pd.DataFrame(bos_hou.data)\n",
    "df_boston.columns = column_name\n",
    "df_boston.head()"
   ]
  },
  {
   "cell_type": "markdown",
   "metadata": {},
   "source": [
    "crim\n",
    "per capita crime rate by town.\n",
    "\n",
    "zn\n",
    "proportion of residential land zoned for lots over 25,000 sq.ft.\n",
    "\n",
    "indus\n",
    "proportion of non-retail business acres per town.\n",
    "\n",
    "chas\n",
    "Charles River dummy variable (= 1 if tract bounds river; 0 otherwise).\n",
    "\n",
    "nox\n",
    "nitrogen oxides concentration (parts per 10 million).\n",
    "\n",
    "rm\n",
    "average number of rooms per dwelling.\n",
    "\n",
    "age\n",
    "proportion of owner-occupied units built prior to 1940.\n",
    "\n",
    "dis\n",
    "weighted mean of distances to five Boston employment centres.\n",
    "\n",
    "rad\n",
    "index of accessibility to radial highways.\n",
    "\n",
    "tax\n",
    "full-value property-tax rate per \\$10,000.\n",
    "\n",
    "ptratio\n",
    "pupil-teacher ratio by town.\n",
    "\n",
    "black\n",
    "1000(Bk - 0.63)^2 where Bk is the proportion of blacks by town.\n",
    "\n",
    "lstat\n",
    "lower status of the population (percent).\n",
    "\n",
    "medv\n",
    "median value of owner-occupied homes in \\$1000s."
   ]
  },
  {
   "cell_type": "markdown",
   "metadata": {},
   "source": [
    "1. Visualization\n",
    " Example 1: Using Box Plot\n",
    "\n",
    "It captures the summary of the data effectively and efficiently with only a simple box and whiskers. Boxplot summarizes sample data using 25th, 50th, and 75th percentiles. One can just get insights(quartiles, median, and outliers) into the dataset by just looking at its boxplot."
   ]
  },
  {
   "cell_type": "code",
   "execution_count": 5,
   "metadata": {},
   "outputs": [
    {
     "data": {
      "text/plain": [
       "<matplotlib.axes._subplots.AxesSubplot at 0x29826419e48>"
      ]
     },
     "execution_count": 5,
     "metadata": {},
     "output_type": "execute_result"
    },
    {
     "data": {
      "image/png": "[encoded data removed]",
      "text/plain": [
       "<Figure size 432x288 with 1 Axes>"
      ]
     },
     "metadata": {
      "needs_background": "light"
     },
     "output_type": "display_data"
    }
   ],
   "source": [
    "# Box Plot\n",
    "import seaborn as sns\n",
    "sns.boxplot(df_boston['DIS'])"
   ]
  },
  {
   "cell_type": "code",
   "execution_count": 6,
   "metadata": {},
   "outputs": [
    {
     "name": "stdout",
     "output_type": "stream",
     "text": [
      "(array([351, 352, 353, 354, 355], dtype=int64),)\n"
     ]
    }
   ],
   "source": [
    "# Position of the Outlier\n",
    "print(np.where(df_boston['DIS']>10))"
   ]
  },
  {
   "cell_type": "markdown",
   "metadata": {},
   "source": [
    "Example 2: Using ScatterPlot.\n",
    "\n",
    "It is used when you have paired numerical data, or when your dependent variable has multiple values for each reading independent variable, or when trying to determine the relationship between the two variables. In the process of utilizing the scatter plot, one can also use it for outlier detection.\n",
    "\n",
    "To plot the scatter plot one requires two variables that are somehow related to each other. So here, ‘Proportion of non-retail business acres per town’ and ‘Full-value property-tax rate per $10,000’ are used whose column names are “INDUS” and “TAX” respectively."
   ]
  },
  {
   "cell_type": "code",
   "execution_count": 7,
   "metadata": {},
   "outputs": [
    {
     "data": {
      "image/png": "[encoded data removed]",
      "text/plain": [
       "<Figure size 1296x720 with 1 Axes>"
      ]
     },
     "metadata": {
      "needs_background": "light"
     },
     "output_type": "display_data"
    }
   ],
   "source": [
    "# Scatter plot\n",
    "fig, ax = plt.subplots(figsize = (18,10))\n",
    "ax.scatter(df_boston['INDUS'], df_boston['TAX'])\n",
    " \n",
    "# x-axis label\n",
    "ax.set_xlabel('(Proportion non-retail business acres)/(town)')\n",
    " \n",
    "# y-axis label\n",
    "ax.set_ylabel('(Full-value property-tax rate)/( $10,000)')\n",
    "plt.show()"
   ]
  },
  {
   "cell_type": "markdown",
   "metadata": {},
   "source": [
    "Using approximation can say all those data points that are x>20 and y>600 are outliers. "
   ]
  },
  {
   "cell_type": "code",
   "execution_count": 8,
   "metadata": {},
   "outputs": [
    {
     "name": "stdout",
     "output_type": "stream",
     "text": [
      "(array([488, 489, 490, 491, 492], dtype=int64),)\n"
     ]
    }
   ],
   "source": [
    "# Position of the Outlier\n",
    "print(np.where((df_boston['INDUS']>20) & (df_boston['TAX']>600)))"
   ]
  },
  {
   "cell_type": "markdown",
   "metadata": {},
   "source": [
    "Z-score\n",
    "Z- Score is also called a standard score. This value/score helps to understand that how far is the data point from the mean. And after setting up a threshold value one can utilize z score values of data points to define the outliers."
   ]
  },
  {
   "cell_type": "code",
   "execution_count": 9,
   "metadata": {},
   "outputs": [
    {
     "name": "stdout",
     "output_type": "stream",
     "text": [
      "[1.40213603e-01 5.57159875e-01 5.57159875e-01 1.07773662e+00\n",
      " 1.07773662e+00 1.07773662e+00 8.39243922e-01 1.02463789e+00\n",
      " 1.08719646e+00 1.32963473e+00 1.21297914e+00 1.15593484e+00\n",
      " 7.87143464e-01 4.33754047e-01 3.17003386e-01 3.34449434e-01\n",
      " 3.34449434e-01 2.20028082e-01 6.92761271e-04 6.92761271e-04\n",
      " 1.35827806e-03 1.03277421e-01 8.64493539e-02 1.42685523e-01\n",
      " 2.87387889e-01 3.13533191e-01 4.21632134e-01 3.12962749e-01\n",
      " 3.13580728e-01 2.11043605e-01 2.08191390e-01 1.80619980e-01\n",
      " 9.26766896e-02 3.72817172e-03 1.67532861e-02 2.06663257e-01\n",
      " 1.98296760e-01 6.61510917e-02 2.48415135e-02 7.63470081e-01\n",
      " 7.63470081e-01 9.15493132e-01 9.15493132e-01 9.15493132e-01\n",
      " 9.15493132e-01 6.20526581e-01 6.20526581e-01 9.00519004e-01\n",
      " 9.86370670e-01 1.08985853e+00 1.43545190e+00 1.43545190e+00\n",
      " 1.43545190e+00 1.43545190e+00 1.67551331e+00 2.33004908e+00\n",
      " 2.56345533e+00 2.15330683e+00 1.91086857e+00 1.49121270e+00\n",
      " 1.63068600e+00 1.43725830e+00 1.63073354e+00 1.98982739e+00\n",
      " 2.58023586e+00 1.33885689e+00 1.33885689e+00 1.28490249e+00\n",
      " 1.28490249e+00 1.28490249e+00 7.09373073e-01 7.09373073e-01\n",
      " 7.09373073e-01 7.09373073e-01 2.16985719e-01 3.36350910e-01\n",
      " 1.22244650e-01 1.40451288e-01 5.79502225e-01 3.36350910e-01\n",
      " 7.63279934e-01 7.63279934e-01 7.63279934e-01 7.63279934e-01\n",
      " 4.67933088e-01 3.05499453e-01 3.00508077e-01 2.25527896e-02\n",
      " 1.77475592e-01 1.80898250e-01 3.34062186e-01 3.34157260e-01\n",
      " 6.13904482e-02 6.13904482e-02 8.55867374e-02 1.42535960e-01\n",
      " 1.42535960e-01 1.42535960e-01 1.42535960e-01 1.42535960e-01\n",
      " 4.83565780e-01 4.46344377e-01 5.13561573e-01 5.13561573e-01\n",
      " 6.53177489e-01 8.02490936e-01 7.53005008e-01 7.95122714e-01\n",
      " 6.47520596e-01 5.94184179e-01 4.83565780e-01 5.31245305e-01\n",
      " 6.85312443e-01 5.92805608e-01 7.31375712e-01 6.33164448e-01\n",
      " 5.06240888e-01 4.98017002e-01 6.26319133e-01 4.92407646e-01\n",
      " 7.30805269e-01 7.59470029e-01 8.11998318e-01 8.79738421e-01\n",
      " 8.50313071e-01 8.56683017e-01 9.68727523e-01 9.53943543e-01\n",
      " 9.42439610e-01 8.62862816e-01 7.96976654e-01 7.24482860e-01\n",
      " 6.97672040e-01 6.29931938e-01 6.88830174e-01 8.00684533e-01\n",
      " 8.69042615e-01 9.24708341e-01 1.01084523e+00 1.01079769e+00\n",
      " 1.03779866e+00 1.11979984e+00 1.17579832e+00 1.13292002e+00\n",
      " 1.16424685e+00 1.12944983e+00 1.08310134e+00 1.10962694e+00\n",
      " 1.07692154e+00 1.07877548e+00 1.03489891e+00 1.04744865e+00\n",
      " 1.03860679e+00 1.03242699e+00 9.72435403e-01 9.74289342e-01\n",
      " 9.78615201e-01 9.11635690e-01 9.68679986e-01 9.64591812e-01\n",
      " 9.49142315e-01 8.67141138e-01 8.33960373e-01 7.76298096e-01\n",
      " 6.52702120e-01 7.18588283e-01 8.31488453e-01 6.50848180e-01\n",
      " 8.05770983e-01 7.28523498e-01 6.50848180e-01 6.68531912e-01\n",
      " 5.69940353e-01 5.46076822e-01 5.19646298e-01 3.15047421e-01\n",
      " 1.14156423e-01 2.27009056e-01 4.18202524e-01 4.59226880e-01\n",
      " 5.01059365e-01 5.69084688e-01 5.20264278e-01 4.50670236e-01\n",
      " 3.83690724e-01 2.44978010e-01 2.83245225e-01 3.06265493e-03\n",
      " 3.66822072e-01 3.66822072e-01 1.27625077e+00 1.27625077e+00\n",
      " 1.27625077e+00 1.15255972e+00 1.15255972e+00 8.81028869e-01\n",
      " 1.67042686e+00 1.67042686e+00 1.67042686e+00 1.83414399e+00\n",
      " 1.83414399e+00 1.17651833e+00 1.17651833e+00 6.28893078e-01\n",
      " 6.28893078e-01 7.14752260e-02 2.66138888e-01 2.66138888e-01\n",
      " 2.11138679e-01 3.80092387e-02 3.90075139e-02 6.18182805e-02\n",
      " 6.77128578e-02 7.14752260e-02 9.86593887e-02 7.14752260e-02\n",
      " 3.24649877e-01 1.77760813e-01 4.30562121e-01 2.05237150e-01\n",
      " 4.43682310e-01 3.55121039e-01 2.48590815e-01 2.48590815e-01\n",
      " 4.28137739e-01 4.28137739e-01 2.75401635e-01 2.75401635e-01\n",
      " 1.99627794e-01 1.99627794e-01 5.87283811e-02 5.87283811e-02\n",
      " 2.06107282e-02 6.80456162e-02 6.80456162e-02 6.80456162e-02\n",
      " 1.67785014e-01 1.67785014e-01 1.13844126e+00 1.13844126e+00\n",
      " 1.20794023e+00 1.20794023e+00 1.54041340e+00 1.54041340e+00\n",
      " 1.97746779e+00 1.97746779e+00 2.02528992e+00 2.02528992e+00\n",
      " 1.91643039e+00 1.91643039e+00 1.71211673e+00 1.71211673e+00\n",
      " 2.42992413e+00 2.42992413e+00 2.57899990e+00 2.57899990e+00\n",
      " 1.20794023e+00 9.47906355e-01 9.03411804e-01 8.48221447e-01\n",
      " 8.00019016e-01 7.86851291e-01 7.16163900e-01 8.15848808e-01\n",
      " 8.86536199e-01 8.59725380e-01 7.90131338e-01 6.52892268e-01\n",
      " 4.38786008e-01 5.82124271e-02 3.01363742e-01 3.01363742e-01\n",
      " 5.82124271e-02 2.71653170e-01 1.34319026e-01 2.24496552e-01\n",
      " 4.71640967e-01 5.07578874e-01 1.64124671e-01 1.45300053e-01\n",
      " 4.27669322e-01 6.89122348e-01 6.73530240e-01 9.93501208e-01\n",
      " 1.66961873e+00 1.66961873e+00 2.51667900e+00 1.67432489e+00\n",
      " 1.67432489e+00 1.67432489e+00 6.28275098e-01 6.28275098e-01\n",
      " 6.28275098e-01 8.11767586e-01 8.11767586e-01 1.02934404e+00\n",
      " 1.02934404e+00 1.20028678e+00 1.91704837e+00 1.91704837e+00\n",
      " 1.91704837e+00 8.06538525e-01 8.06538525e-01 8.06538525e-01\n",
      " 1.07888502e-01 2.02052176e-01 3.30782139e-01 2.91088816e-01\n",
      " 2.27009056e-01 3.29213421e-01 6.06401166e-01 5.48929037e-01\n",
      " 4.56850035e-01 2.53011748e-01 9.16239255e-02 7.12850784e-02\n",
      " 9.67648642e-02 1.12499583e-01 1.24804691e-01 9.83335824e-02\n",
      " 3.54319864e-01 3.54319864e-01 4.40219067e-01 4.40219067e-01\n",
      " 4.40219067e-01 7.70505545e-01 7.70505545e-01 7.70505545e-01\n",
      " 6.74813737e-01 6.74813737e-01 9.88081999e-01 1.35273767e+00\n",
      " 1.35273767e+00 1.26607787e+00 1.26607787e+00 1.04118073e+00\n",
      " 6.82657328e-01 8.65151540e-01 4.83525195e-01 4.83525195e-01\n",
      " 4.83525195e-01 1.54155429e+00 1.17504468e+00 9.20817266e-01\n",
      " 1.26940546e+00 2.00537196e+00 2.00537196e+00 2.25337204e+00\n",
      " 2.16243392e+00 2.37544683e+00 2.37544683e+00 3.28729991e+00\n",
      " 3.28729991e+00 3.96051769e+00 3.22806892e+00 3.22806892e+00\n",
      " 7.95217788e-01 6.13151408e-01 5.09758620e-01 6.11297468e-01\n",
      " 6.06971609e-01 7.12836316e-01 8.04059654e-01 8.98610575e-01\n",
      " 8.98610575e-01 1.03718068e+00 9.71056832e-01 1.08595355e+00\n",
      " 1.17061680e+00 1.15911286e+00 1.23246232e+00 1.24829211e+00\n",
      " 1.26706919e+00 1.24586773e+00 1.26355146e+00 1.17831778e+00\n",
      " 1.16472222e+00 1.15849488e+00 1.14513701e+00 1.14513701e+00\n",
      " 1.13068579e+00 1.08186538e+00 1.05277279e+00 1.07525775e+00\n",
      " 1.11975230e+00 1.12612225e+00 1.10658457e+00 1.08224567e+00\n",
      " 1.04844693e+00 9.82560765e-01 8.88247528e-01 7.73540955e-01\n",
      " 9.62642798e-01 9.52564973e-01 9.56890832e-01 9.83701651e-01\n",
      " 1.00694720e+00 1.02757822e+00 1.09593630e+00 1.09080232e+00\n",
      " 1.04877969e+00 1.05576761e+00 1.02491616e+00 9.94587605e-01\n",
      " 1.03993782e+00 1.12645500e+00 1.24401379e+00 1.19310176e+00\n",
      " 1.11252669e+00 1.10739270e+00 1.13234958e+00 1.07791981e+00\n",
      " 1.06537007e+00 1.04849446e+00 1.01578907e+00 9.31886415e-01\n",
      " 9.39112026e-01 1.02087552e+00 9.47145764e-01 9.51233939e-01\n",
      " 9.20382482e-01 9.12919186e-01 8.76505910e-01 8.42944849e-01\n",
      " 8.23121956e-01 8.96281267e-01 8.54448782e-01 9.18481005e-01\n",
      " 8.83921669e-01 8.68424635e-01 8.28255943e-01 8.11380338e-01\n",
      " 7.58043921e-01 7.03186322e-01 7.47680874e-01 7.94029365e-01\n",
      " 8.52071937e-01 8.94094569e-01 9.38589120e-01 9.40205375e-01\n",
      " 9.16912287e-01 8.22361366e-01 8.51026125e-01 8.63575870e-01\n",
      " 9.02936435e-01 8.59059863e-01 8.19081318e-01 7.59184807e-01\n",
      " 7.28951330e-01 7.65364606e-01 6.99478443e-01 6.84456778e-01\n",
      " 6.78276980e-01 6.38108287e-01 6.17477267e-01 6.46142026e-01\n",
      " 5.77308575e-01 4.82900264e-01 4.81046324e-01 5.12230539e-01\n",
      " 5.69274836e-01 5.83726058e-01 5.04196801e-01 4.72251995e-01\n",
      " 3.95337268e-01 3.46326710e-01 4.39023692e-01 5.96465951e-01\n",
      " 4.21482571e-01 4.61746337e-01 3.62061429e-01 3.30734602e-01\n",
      " 4.27139464e-01 5.99983682e-01 6.48994241e-01 7.55381854e-01\n",
      " 7.08177698e-01 8.05438224e-01 7.72257458e-01 8.76505910e-01\n",
      " 1.76287169e-01 2.20258814e-01 1.82752189e-01 1.44159167e-01\n",
      " 3.37715013e-02 9.34848172e-02 1.18434745e-01 3.05540038e-01\n",
      " 9.38446509e-01 9.69583188e-01 9.37638382e-01 9.16009086e-01\n",
      " 8.01064828e-01 6.71859496e-01 6.71859496e-01 4.73678102e-01\n",
      " 4.73678102e-01 4.28945866e-01 6.58834382e-01 6.63207778e-01\n",
      " 6.16478992e-01 6.25796227e-01 7.16639269e-01 7.73683566e-01\n",
      " 6.68436838e-01 6.13246481e-01]\n"
     ]
    }
   ],
   "source": [
    "# Z score\n",
    "from scipy import stats\n",
    "import numpy as np\n",
    " \n",
    "z = np.abs(stats.zscore(df_boston['DIS']))\n",
    "print(z)"
   ]
  },
  {
   "cell_type": "markdown",
   "metadata": {},
   "source": [
    "Now to define an outlier threshold value is chosen which is generally 3.0. As 99.7% of the data points lie between +/- 3 standard deviation (using Gaussian Distribution approach)."
   ]
  },
  {
   "cell_type": "code",
   "execution_count": 10,
   "metadata": {},
   "outputs": [
    {
     "name": "stdout",
     "output_type": "stream",
     "text": [
      "(array([351, 352, 353, 354, 355], dtype=int64),)\n"
     ]
    }
   ],
   "source": [
    "threshold = 3\n",
    " \n",
    "# Position of the outlier\n",
    "print(np.where(z > 3))"
   ]
  },
  {
   "cell_type": "markdown",
   "metadata": {},
   "source": [
    "3. IQR (Inter Quartile Range)\n",
    "IQR (Inter Quartile Range) Inter Quartile Range approach to finding the outliers is the most commonly used and most trusted approach used in the research field."
   ]
  },
  {
   "cell_type": "code",
   "execution_count": 12,
   "metadata": {},
   "outputs": [
    {
     "name": "stdout",
     "output_type": "stream",
     "text": [
      "3.0646000000000004\n"
     ]
    }
   ],
   "source": [
    "# IQR\n",
    "Q1 = np.percentile(df_boston['DIS'], 25,\n",
    "                   interpolation = 'midpoint')\n",
    " \n",
    "Q3 = np.percentile(df_boston['DIS'], 75,\n",
    "                   interpolation = 'midpoint')\n",
    "IQR = Q3 - Q1\n",
    "print(IQR)"
   ]
  },
  {
   "cell_type": "markdown",
   "metadata": {},
   "source": [
    "To define the outlier base value is defined above and below datasets normal range namely Upper and Lower bounds, define the upper and the lower bound (1.5*IQR value is considered) :"
   ]
  },
  {
   "attachments": {
    "image.png": {
     "image/png": "[encoded data removed]"
    }
   },
   "cell_type": "markdown",
   "metadata": {},
   "source": [
    "![image.png](attachment:image.png)"
   ]
  },
  {
   "cell_type": "markdown",
   "metadata": {},
   "source": [
    "In the above formula as according to statistics, the 0.5 scale-up of IQR (new_IQR = IQR + 0.5*IQR) is taken, to consider all the data between 2.7 standard deviations in the Gaussian Distribution."
   ]
  },
  {
   "cell_type": "code",
   "execution_count": 13,
   "metadata": {},
   "outputs": [
    {
     "name": "stdout",
     "output_type": "stream",
     "text": [
      "Upper bound: 0      False\n",
      "1      False\n",
      "2      False\n",
      "3      False\n",
      "4      False\n",
      "       ...  \n",
      "501    False\n",
      "502    False\n",
      "503    False\n",
      "504    False\n",
      "505    False\n",
      "Name: DIS, Length: 506, dtype: bool\n",
      "(array([351, 352, 353, 354, 355], dtype=int64),)\n",
      "Lower bound: 0      False\n",
      "1      False\n",
      "2      False\n",
      "3      False\n",
      "4      False\n",
      "       ...  \n",
      "501    False\n",
      "502    False\n",
      "503    False\n",
      "504    False\n",
      "505    False\n",
      "Name: DIS, Length: 506, dtype: bool\n",
      "(array([], dtype=int64),)\n"
     ]
    }
   ],
   "source": [
    "# Above Upper bound\n",
    "upper = df_boston['DIS'] >= (Q3+1.5*IQR)\n",
    " \n",
    "print(\"Upper bound:\",upper)\n",
    "print(np.where(upper))\n",
    " \n",
    "# Below Lower bound\n",
    "lower = df_boston['DIS'] <= (Q1-1.5*IQR)\n",
    "print(\"Lower bound:\", lower)\n",
    "print(np.where(lower))"
   ]
  },
  {
   "cell_type": "markdown",
   "metadata": {},
   "source": [
    "REMOVING THE OUTLIER"
   ]
  },
  {
   "cell_type": "code",
   "execution_count": 14,
   "metadata": {},
   "outputs": [
    {
     "name": "stdout",
     "output_type": "stream",
     "text": [
      "Old Shape:  (506, 13)\n",
      "New Shape:  (501, 13)\n"
     ]
    }
   ],
   "source": [
    "# Importing\n",
    "import sklearn\n",
    "from sklearn.datasets import load_boston\n",
    "import pandas as pd\n",
    " \n",
    "# Load the dataset\n",
    "bos_hou = load_boston()\n",
    " \n",
    "# Create the dataframe\n",
    "column_name = bos_hou.feature_names\n",
    "df_boston = pd.DataFrame(bos_hou.data)\n",
    "df_boston.columns = column_name\n",
    "df_boston.head()\n",
    " \n",
    "''' Detection '''\n",
    "# IQR\n",
    "Q1 = np.percentile(df_boston['DIS'], 25,\n",
    "                   interpolation = 'midpoint')\n",
    " \n",
    "Q3 = np.percentile(df_boston['DIS'], 75,\n",
    "                   interpolation = 'midpoint')\n",
    "IQR = Q3 - Q1\n",
    " \n",
    "print(\"Old Shape: \", df_boston.shape)\n",
    " \n",
    "# Upper bound\n",
    "upper = np.where(df_boston['DIS'] >= (Q3+1.5*IQR))\n",
    "# Lower bound\n",
    "lower = np.where(df_boston['DIS'] <= (Q1-1.5*IQR))\n",
    " \n",
    "''' Removing the Outliers '''\n",
    "df_boston.drop(upper[0], inplace = True)\n",
    "df_boston.drop(lower[0], inplace = True)\n",
    " \n",
    "print(\"New Shape: \", df_boston.shape)"
   ]
  },
  {
   "cell_type": "code",
   "execution_count": null,
   "metadata": {},
   "outputs": [],
   "source": []
  }
 ],
 "metadata": {
  "kernelspec": {
   "display_name": "Python 3",
   "language": "python",
   "name": "python3"
  },
  "language_info": {
   "codemirror_mode": {
    "name": "ipython",
    "version": 3
   },
   "file_extension": ".py",
   "mimetype": "text/x-python",
   "name": "python",
   "nbconvert_exporter": "python",
   "pygments_lexer": "ipython3",
   "version": "3.7.7"
  }
 },
 "nbformat": 4,
 "nbformat_minor": 4
}
