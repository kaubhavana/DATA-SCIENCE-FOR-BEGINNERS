{
 "cells": [
  {
   "cell_type": "code",
   "execution_count": 13,
   "metadata": {},
   "outputs": [],
   "source": [
    "import keras \n",
    "from keras.datasets import mnist \n",
    "from keras.models import Sequential \n",
    "from keras.layers import Dense, Dropout, Flatten \n",
    "from keras.layers import Conv2D, MaxPooling2D \n",
    "from keras import backend as K \n",
    "import numpy as np"
   ]
  },
  {
   "cell_type": "code",
   "execution_count": 4,
   "metadata": {},
   "outputs": [
    {
     "name": "stdout",
     "output_type": "stream",
     "text": [
      "Downloading data from https://s3.amazonaws.com/img-datasets/mnist.npz\n",
      "11493376/11490434 [==============================] - 128s 11us/step\n"
     ]
    }
   ],
   "source": [
    "(x_train, y_train), (x_test, y_test) = mnist.load_data()"
   ]
  },
  {
   "cell_type": "code",
   "execution_count": 8,
   "metadata": {},
   "outputs": [],
   "source": [
    "img_rows, img_cols = 28, 28 \n",
    "\n",
    "if K.image_data_format() == 'channels_first': \n",
    "    x_train = x_train.reshape(x_train.shape[0], 1, img_rows, img_cols) \n",
    "    x_test = x_test.reshape(x_test.shape[0], 1, img_rows, img_cols) \n",
    "    input_shape = (1, img_rows, img_cols) \n",
    "else: \n",
    "    x_train = x_train.reshape(x_train.shape[0], img_rows, img_cols, 1) \n",
    "    x_test = x_test.reshape(x_test.shape[0], img_rows, img_cols, 1) \n",
    "    input_shape = (img_rows, img_cols, 1) \n",
    "   \n",
    "x_train = x_train.astype('float32') \n",
    "x_test = x_test.astype('float32') \n",
    "x_train /= 255 \n",
    "x_test /= 255 \n",
    "\n",
    "y_train = keras.utils.to_categorical(y_train, 10) \n",
    "y_test = keras.utils.to_categorical(y_test, 10)\n",
    "\n",
    "\n",
    "\n",
    "model = Sequential() \n",
    "model.add(Conv2D(32, kernel_size = (3, 3),  \n",
    "   activation = 'relu', input_shape = input_shape)) \n",
    "model.add(Conv2D(64, (3, 3), activation = 'relu')) \n",
    "model.add(MaxPooling2D(pool_size = (2, 2))) \n",
    "model.add(Dropout(0.25)) \n",
    "model.add(Flatten()) \n",
    "model.add(Dense(128, activation = 'relu')) \n",
    "model.add(Dropout(0.5)) \n",
    "model.add(Dense(10, activation = 'softmax'))"
   ]
  },
  {
   "cell_type": "code",
   "execution_count": 9,
   "metadata": {},
   "outputs": [],
   "source": [
    "model.compile(loss = keras.losses.categorical_crossentropy, \n",
    "   optimizer = keras.optimizers.Adadelta(), metrics = ['accuracy'])"
   ]
  },
  {
   "cell_type": "code",
   "execution_count": 14,
   "metadata": {},
   "outputs": [
    {
     "name": "stdout",
     "output_type": "stream",
     "text": [
      "Train on 60000 samples, validate on 10000 samples\n",
      "Epoch 1/5\n",
      "60000/60000 [==============================] - 183s 3ms/step - loss: 0.0407 - accuracy: 0.9873 - val_loss: 0.0305 - val_accuracy: 0.9907\n",
      "Epoch 2/5\n",
      "60000/60000 [==============================] - 140s 2ms/step - loss: 0.0382 - accuracy: 0.9883 - val_loss: 0.0306 - val_accuracy: 0.9905\n",
      "Epoch 3/5\n",
      "60000/60000 [==============================] - 139s 2ms/step - loss: 0.0334 - accuracy: 0.9901 - val_loss: 0.0305 - val_accuracy: 0.9903\n",
      "Epoch 4/5\n",
      "60000/60000 [==============================] - 146s 2ms/step - loss: 0.0314 - accuracy: 0.9904 - val_loss: 0.0281 - val_accuracy: 0.9917\n",
      "Epoch 5/5\n",
      "60000/60000 [==============================] - 171s 3ms/step - loss: 0.0287 - accuracy: 0.9911 - val_loss: 0.0279 - val_accuracy: 0.9913\n"
     ]
    },
    {
     "data": {
      "text/plain": [
       "<keras.callbacks.callbacks.History at 0x223c1384f88>"
      ]
     },
     "execution_count": 14,
     "metadata": {},
     "output_type": "execute_result"
    }
   ],
   "source": [
    "model.fit(\n",
    "   x_train, y_train, \n",
    "   batch_size = 128, \n",
    "   epochs = 5, \n",
    "   verbose = 1, \n",
    "   validation_data = (x_test, y_test)\n",
    ")"
   ]
  },
  {
   "cell_type": "code",
   "execution_count": 15,
   "metadata": {},
   "outputs": [
    {
     "name": "stdout",
     "output_type": "stream",
     "text": [
      "Test loss: 0.027920785034240544\n",
      "Test accuracy: 0.9912999868392944\n"
     ]
    }
   ],
   "source": [
    "score = model.evaluate(x_test, y_test, verbose = 0) \n",
    "\n",
    "print('Test loss:', score[0]) \n",
    "print('Test accuracy:', score[1])"
   ]
  },
  {
   "cell_type": "code",
   "execution_count": 12,
   "metadata": {},
   "outputs": [
    {
     "name": "stdout",
     "output_type": "stream",
     "text": [
      "[7 2 1 0 4]\n",
      "[7 2 1 0 4]\n"
     ]
    }
   ],
   "source": [
    "pred = model.predict(x_test) \n",
    "pred = np.argmax(pred, axis = 1)[:5] \n",
    "label = np.argmax(y_test,axis = 1)[:5] \n",
    "\n",
    "print(pred) \n",
    "print(label)"
   ]
  },
  {
   "cell_type": "code",
   "execution_count": null,
   "metadata": {},
   "outputs": [],
   "source": []
  }
 ],
 "metadata": {
  "kernelspec": {
   "display_name": "Python 3",
   "language": "python",
   "name": "python3"
  },
  "language_info": {
   "codemirror_mode": {
    "name": "ipython",
    "version": 3
   },
   "file_extension": ".py",
   "mimetype": "text/x-python",
   "name": "python",
   "nbconvert_exporter": "python",
   "pygments_lexer": "ipython3",
   "version": "3.7.7"
  }
 },
 "nbformat": 4,
 "nbformat_minor": 4
}
